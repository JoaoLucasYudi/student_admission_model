{
 "cells": [
  {
   "cell_type": "markdown",
   "id": "39b7a706",
   "metadata": {},
   "source": [
    "# Estudo de tratamento de dados usando python"
   ]
  },
  {
   "cell_type": "code",
   "execution_count": 614,
   "id": "2e764148",
   "metadata": {},
   "outputs": [],
   "source": [
    "# Funções\n",
    "def plot_histogram(df, column):\n",
    "    for col in df[column].columns:\n",
    "        plt.figure(figsize=(10, 5))\n",
    "        sns.boxplot(x=df[col])\n",
    "        plt.title(f'Boxplot de {col}')\n",
    "        plt.show()"
   ]
  },
  {
   "cell_type": "markdown",
   "id": "d33c12a3",
   "metadata": {},
   "source": [
    "## 1 - Importando as libs e os dados"
   ]
  },
  {
   "cell_type": "code",
   "execution_count": 615,
   "id": "986dbc94",
   "metadata": {},
   "outputs": [],
   "source": [
    "import pandas as pd\n",
    "import numpy as np\n",
    "import matplotlib.pyplot as plt\n",
    "import seaborn as sns\n",
    "from sklearn.preprocessing import LabelEncoder"
   ]
  },
  {
   "cell_type": "code",
   "execution_count": 616,
   "id": "4458a9aa",
   "metadata": {},
   "outputs": [],
   "source": [
    "# Lendo o arquivo csv\n",
    "df_student_info = pd.read_csv(\"archive/student_admission_record_dirty.csv\")"
   ]
  },
  {
   "cell_type": "markdown",
   "id": "3ee646a9",
   "metadata": {},
   "source": [
    "## 2 - Análise exploratória"
   ]
  },
  {
   "cell_type": "code",
   "execution_count": 617,
   "id": "32a1dda6",
   "metadata": {},
   "outputs": [
    {
     "data": {
      "text/html": [
       "<div>\n",
       "<style scoped>\n",
       "    .dataframe tbody tr th:only-of-type {\n",
       "        vertical-align: middle;\n",
       "    }\n",
       "\n",
       "    .dataframe tbody tr th {\n",
       "        vertical-align: top;\n",
       "    }\n",
       "\n",
       "    .dataframe thead th {\n",
       "        text-align: right;\n",
       "    }\n",
       "</style>\n",
       "<table border=\"1\" class=\"dataframe\">\n",
       "  <thead>\n",
       "    <tr style=\"text-align: right;\">\n",
       "      <th></th>\n",
       "      <th>Name</th>\n",
       "      <th>Age</th>\n",
       "      <th>Gender</th>\n",
       "      <th>Admission Test Score</th>\n",
       "      <th>High School Percentage</th>\n",
       "      <th>City</th>\n",
       "      <th>Admission Status</th>\n",
       "    </tr>\n",
       "  </thead>\n",
       "  <tbody>\n",
       "    <tr>\n",
       "      <th>0</th>\n",
       "      <td>Shehroz</td>\n",
       "      <td>24.0</td>\n",
       "      <td>Female</td>\n",
       "      <td>50.0</td>\n",
       "      <td>68.90</td>\n",
       "      <td>Quetta</td>\n",
       "      <td>Rejected</td>\n",
       "    </tr>\n",
       "    <tr>\n",
       "      <th>1</th>\n",
       "      <td>Waqar</td>\n",
       "      <td>21.0</td>\n",
       "      <td>Female</td>\n",
       "      <td>99.0</td>\n",
       "      <td>60.73</td>\n",
       "      <td>Karachi</td>\n",
       "      <td>NaN</td>\n",
       "    </tr>\n",
       "    <tr>\n",
       "      <th>2</th>\n",
       "      <td>Bushra</td>\n",
       "      <td>17.0</td>\n",
       "      <td>Male</td>\n",
       "      <td>89.0</td>\n",
       "      <td>NaN</td>\n",
       "      <td>Islamabad</td>\n",
       "      <td>Accepted</td>\n",
       "    </tr>\n",
       "    <tr>\n",
       "      <th>3</th>\n",
       "      <td>Aliya</td>\n",
       "      <td>17.0</td>\n",
       "      <td>Male</td>\n",
       "      <td>55.0</td>\n",
       "      <td>85.29</td>\n",
       "      <td>Karachi</td>\n",
       "      <td>Rejected</td>\n",
       "    </tr>\n",
       "    <tr>\n",
       "      <th>4</th>\n",
       "      <td>Bilal</td>\n",
       "      <td>20.0</td>\n",
       "      <td>Male</td>\n",
       "      <td>65.0</td>\n",
       "      <td>61.13</td>\n",
       "      <td>Lahore</td>\n",
       "      <td>NaN</td>\n",
       "    </tr>\n",
       "  </tbody>\n",
       "</table>\n",
       "</div>"
      ],
      "text/plain": [
       "      Name   Age  Gender  Admission Test Score  High School Percentage  \\\n",
       "0  Shehroz  24.0  Female                  50.0                   68.90   \n",
       "1    Waqar  21.0  Female                  99.0                   60.73   \n",
       "2   Bushra  17.0    Male                  89.0                     NaN   \n",
       "3    Aliya  17.0    Male                  55.0                   85.29   \n",
       "4    Bilal  20.0    Male                  65.0                   61.13   \n",
       "\n",
       "        City Admission Status  \n",
       "0     Quetta         Rejected  \n",
       "1    Karachi              NaN  \n",
       "2  Islamabad         Accepted  \n",
       "3    Karachi         Rejected  \n",
       "4     Lahore              NaN  "
      ]
     },
     "execution_count": 617,
     "metadata": {},
     "output_type": "execute_result"
    }
   ],
   "source": [
    "# Visualizando os dados\n",
    "df_student_info.head()"
   ]
  },
  {
   "cell_type": "code",
   "execution_count": 618,
   "id": "5339b1f5",
   "metadata": {},
   "outputs": [
    {
     "name": "stdout",
     "output_type": "stream",
     "text": [
      "<class 'pandas.core.frame.DataFrame'>\n",
      "RangeIndex: 157 entries, 0 to 156\n",
      "Data columns (total 7 columns):\n",
      " #   Column                  Non-Null Count  Dtype  \n",
      "---  ------                  --------------  -----  \n",
      " 0   Name                    147 non-null    object \n",
      " 1   Age                     147 non-null    float64\n",
      " 2   Gender                  147 non-null    object \n",
      " 3   Admission Test Score    146 non-null    float64\n",
      " 4   High School Percentage  146 non-null    float64\n",
      " 5   City                    147 non-null    object \n",
      " 6   Admission Status        147 non-null    object \n",
      "dtypes: float64(3), object(4)\n",
      "memory usage: 8.7+ KB\n"
     ]
    }
   ],
   "source": [
    "# Exibindo as informações do df\n",
    "df_student_info.info()"
   ]
  },
  {
   "cell_type": "code",
   "execution_count": 619,
   "id": "f8d93daf",
   "metadata": {},
   "outputs": [
    {
     "data": {
      "text/plain": [
       "Name                      10\n",
       "Age                       10\n",
       "Gender                    10\n",
       "Admission Test Score      11\n",
       "High School Percentage    11\n",
       "City                      10\n",
       "Admission Status          10\n",
       "dtype: int64"
      ]
     },
     "execution_count": 619,
     "metadata": {},
     "output_type": "execute_result"
    }
   ],
   "source": [
    "df_student_info.isnull().sum()"
   ]
  },
  {
   "cell_type": "code",
   "execution_count": 620,
   "id": "019a199f",
   "metadata": {},
   "outputs": [
    {
     "name": "stdout",
     "output_type": "stream",
     "text": [
      "Número de linhas duplicadas: 6\n"
     ]
    }
   ],
   "source": [
    "print(f\"Número de linhas duplicadas: {df_student_info.duplicated().sum()}\")"
   ]
  },
  {
   "cell_type": "markdown",
   "id": "1b3b99e4",
   "metadata": {},
   "source": [
    "## 3 - Tratamento dos dados"
   ]
  },
  {
   "cell_type": "code",
   "execution_count": 621,
   "id": "b6387274",
   "metadata": {},
   "outputs": [],
   "source": [
    "qtd_lines_before = len(df_student_info)"
   ]
  },
  {
   "cell_type": "markdown",
   "id": "3bf4e820",
   "metadata": {},
   "source": [
    "### 3.1 - Tratando duplicatas"
   ]
  },
  {
   "cell_type": "code",
   "execution_count": 622,
   "id": "117dc1d9",
   "metadata": {},
   "outputs": [
    {
     "name": "stdout",
     "output_type": "stream",
     "text": [
      "Total de linhas antes do tratamento: 157\n"
     ]
    }
   ],
   "source": [
    "# Contando o número de linhas antes do tratamento\n",
    "print(f\"Total de linhas antes do tratamento: {qtd_lines_before}\")"
   ]
  },
  {
   "cell_type": "code",
   "execution_count": 623,
   "id": "a81afb6f",
   "metadata": {},
   "outputs": [],
   "source": [
    "df_student_info = df_student_info.drop_duplicates()"
   ]
  },
  {
   "cell_type": "code",
   "execution_count": 624,
   "id": "4ee24c17",
   "metadata": {},
   "outputs": [
    {
     "name": "stdout",
     "output_type": "stream",
     "text": [
      "Total de linhas após o tratamento: 6\n"
     ]
    }
   ],
   "source": [
    "print(f\"Total de linhas após o tratamento: {qtd_lines_before - len(df_student_info)}\")\n",
    "# Foram removidas 6 linhas duplicadas"
   ]
  },
  {
   "cell_type": "markdown",
   "id": "a8a626a3",
   "metadata": {},
   "source": [
    "### 3.2 - Tratando valores nulos"
   ]
  },
  {
   "cell_type": "markdown",
   "id": "060a2809",
   "metadata": {},
   "source": [
    "#### 3.2.1 - Variáveis categóricas"
   ]
  },
  {
   "cell_type": "code",
   "execution_count": 625,
   "id": "fb989928",
   "metadata": {},
   "outputs": [],
   "source": [
    "# Retirando a coluna City do nosso DataFrame\n",
    "df_student_info_filtered = df_student_info.drop(columns=['City'], axis=1)\n",
    "\n",
    "# Identifiquei que ela não é necessária para o nosso modelo"
   ]
  },
  {
   "cell_type": "code",
   "execution_count": 626,
   "id": "3cfb11a3",
   "metadata": {},
   "outputs": [
    {
     "data": {
      "text/plain": [
       "0"
      ]
     },
     "execution_count": 626,
     "metadata": {},
     "output_type": "execute_result"
    }
   ],
   "source": [
    "# Preenchendo os valores nulos Name com 'Unknown'\n",
    "df_student_info_filtered['Name'] = df_student_info_filtered['Name'].fillna('Unknown')\n",
    "df_student_info_filtered['Name'].isnull().sum()"
   ]
  },
  {
   "cell_type": "code",
   "execution_count": 627,
   "id": "0d4df10f",
   "metadata": {},
   "outputs": [
    {
     "data": {
      "text/plain": [
       "Admission Status    0\n",
       "Gender              0\n",
       "dtype: int64"
      ]
     },
     "execution_count": 627,
     "metadata": {},
     "output_type": "execute_result"
    }
   ],
   "source": [
    "# Removendo os valores nulos de Admission Status e Gender\n",
    "df_student_info_filtered = df_student_info_filtered.dropna(subset=['Admission Status', 'Gender'])\n",
    "df_student_info_filtered[['Admission Status', 'Gender']].isnull().sum()"
   ]
  },
  {
   "cell_type": "code",
   "execution_count": 628,
   "id": "7c199857",
   "metadata": {},
   "outputs": [
    {
     "data": {
      "text/plain": [
       "0    1\n",
       "2    0\n",
       "3    1\n",
       "5    0\n",
       "6    0\n",
       "Name: Admission Status, dtype: int32"
      ]
     },
     "execution_count": 628,
     "metadata": {},
     "output_type": "execute_result"
    }
   ],
   "source": [
    "# Usando o LabelEncoder para transformar a coluna Admission Status em numéricas\n",
    "le = LabelEncoder()\n",
    "df_student_info_filtered['Admission Status'] = le.fit_transform(df_student_info_filtered['Admission Status'])\n",
    "df_student_info_filtered['Admission Status'].head(5)"
   ]
  },
  {
   "cell_type": "code",
   "execution_count": 629,
   "id": "30013c25",
   "metadata": {},
   "outputs": [
    {
     "name": "stdout",
     "output_type": "stream",
     "text": [
      "total de linhas após o tratamento: 132\n",
      "Total de linhas removidas: 25\n"
     ]
    }
   ],
   "source": [
    "# Total de linhas após o tratamento\n",
    "print(f\"total de linhas após o tratamento: {len(df_student_info_filtered)}\")\n",
    "print(f\"Total de linhas removidas: {qtd_lines_before - len(df_student_info_filtered)}\")"
   ]
  },
  {
   "cell_type": "markdown",
   "id": "ecabf1ea",
   "metadata": {},
   "source": [
    "#### 3.2.2 - Variáveis numéricas"
   ]
  },
  {
   "cell_type": "code",
   "execution_count": 630,
   "id": "c77e08bd",
   "metadata": {},
   "outputs": [
    {
     "name": "stdout",
     "output_type": "stream",
     "text": [
      "Age\n",
      "Admission Test Score\n",
      "High School Percentage\n"
     ]
    }
   ],
   "source": [
    "# Definindo apenas colunas numéricas \n",
    "numeric_columns = []\n",
    "for c in df_student_info.columns[0:7].tolist():\n",
    "    if df_student_info.dtypes[c] == 'float64' or df_student_info.dtypes[c] == 'int64':\n",
    "        numeric_columns.append(c)\n",
    "        print(c)\n",
    "        \n",
    "df_student_info_numerics = df_student_info[numeric_columns]"
   ]
  },
  {
   "cell_type": "code",
   "execution_count": 631,
   "id": "2fc481e7",
   "metadata": {},
   "outputs": [
    {
     "name": "stdout",
     "output_type": "stream",
     "text": [
      "Média da coluna Age: 19.764227642276424\n",
      "Mediana da coluna Age: 20.0\n",
      "\n",
      "\n",
      "Média da coluna Admission Test Score: 76.95934959349593\n",
      "Mediana da coluna Admission Test Score: 78.0\n",
      "\n",
      "\n",
      "Média da coluna High School Percentage: 76.46123966942147\n",
      "Mediana da coluna High School Percentage: 78.09\n",
      "\n",
      "\n"
     ]
    }
   ],
   "source": [
    "# Calculando medidas estatísticas: Média, Mediana\n",
    "# Criando arrays com as colunas numéricas\n",
    "mean = {}\n",
    "median = {}\n",
    "for col in df_student_info_filtered[numeric_columns].columns:\n",
    "    mean[col] = df_student_info_filtered[col].mean()\n",
    "    median[col] = df_student_info_filtered[col].median()\n",
    "    print(f\"Média da coluna {col}: {mean[col]}\")\n",
    "    print(f\"Mediana da coluna {col}: {median[col]}\")\n",
    "    print(\"\\n\")\n",
    "    \n"
   ]
  },
  {
   "cell_type": "code",
   "execution_count": 632,
   "id": "e8cb2d7a",
   "metadata": {},
   "outputs": [
    {
     "data": {
      "text/plain": [
       "Age                       0\n",
       "Admission Test Score      0\n",
       "High School Percentage    0\n",
       "dtype: int64"
      ]
     },
     "execution_count": 632,
     "metadata": {},
     "output_type": "execute_result"
    }
   ],
   "source": [
    "# Substituindo os valores nulos pela mediana\n",
    "\n",
    "for col in df_student_info_filtered[numeric_columns].columns:\n",
    "    df_student_info_filtered[col] = df_student_info_filtered[col].fillna(median[col])\n",
    "\n",
    "df_student_info_filtered[numeric_columns].isnull().sum()"
   ]
  },
  {
   "cell_type": "markdown",
   "id": "e07c6146",
   "metadata": {},
   "source": [
    "### 3.3 - Tratando outliers"
   ]
  },
  {
   "cell_type": "markdown",
   "id": "c189bcac",
   "metadata": {},
   "source": [
    "#### 3.3.1 - Plotando boxplot"
   ]
  },
  {
   "cell_type": "code",
   "execution_count": 633,
   "id": "7f4f208c",
   "metadata": {},
   "outputs": [
    {
     "data": {
      "image/png": "[encoded data removed]",
      "text/plain": [
       "<Figure size 1000x500 with 1 Axes>"
      ]
     },
     "metadata": {},
     "output_type": "display_data"
    },
    {
     "data": {
      "image/png": "[encoded data removed]",
      "text/plain": [
       "<Figure size 1000x500 with 1 Axes>"
      ]
     },
     "metadata": {},
     "output_type": "display_data"
    },
    {
     "data": {
      "image/png": "[encoded data removed]",
      "text/plain": [
       "<Figure size 1000x500 with 1 Axes>"
      ]
     },
     "metadata": {},
     "output_type": "display_data"
    }
   ],
   "source": [
    "# Plotando um boxplot para ver a distribuição dos dados e identificar outliers\n",
    "plot_histogram(df_student_info_filtered, numeric_columns)"
   ]
  },
  {
   "cell_type": "markdown",
   "id": "bd7ef47f",
   "metadata": {},
   "source": [
    "#### 3.3.2 - Tratando casos impossíveis"
   ]
  },
  {
   "cell_type": "code",
   "execution_count": 634,
   "id": "435c07b2",
   "metadata": {},
   "outputs": [
    {
     "name": "stdout",
     "output_type": "stream",
     "text": [
      "Linhas antes do tratamento:  132\n"
     ]
    }
   ],
   "source": [
    "print('Linhas antes do tratamento: ', len(df_student_info_filtered))"
   ]
  },
  {
   "cell_type": "code",
   "execution_count": 635,
   "id": "c8f91ae3",
   "metadata": {},
   "outputs": [],
   "source": [
    "df_student_info_filtered = df_student_info_filtered[\n",
    "    (df_student_info_filtered['Age'] > 0) & \n",
    "    (df_student_info_filtered['Admission Test Score'] > 0) &\n",
    "    (df_student_info_filtered['Admission Test Score'] <= 100) & \n",
    "    (df_student_info_filtered['High School Percentage'] <= 100) &\n",
    "    (df_student_info_filtered['High School Percentage'] >= 0) \n",
    "]\n",
    "\n",
    "# Como o criador passou um contexto das variáveis, eu retirei alguns possíveis outliers impossíveis, exemplo: a idade ser menor ou igual a 0 "
   ]
  },
  {
   "cell_type": "code",
   "execution_count": 636,
   "id": "fb03d2e1",
   "metadata": {},
   "outputs": [
    {
     "name": "stdout",
     "output_type": "stream",
     "text": [
      "Linhas depois do tratamento:  124\n"
     ]
    }
   ],
   "source": [
    "print('Linhas depois do tratamento: ', len(df_student_info_filtered))"
   ]
  },
  {
   "cell_type": "code",
   "execution_count": 637,
   "id": "f78b0ec4",
   "metadata": {},
   "outputs": [
    {
     "data": {
      "image/png": "[encoded data removed]",
      "text/plain": [
       "<Figure size 1000x500 with 1 Axes>"
      ]
     },
     "metadata": {},
     "output_type": "display_data"
    },
    {
     "data": {
      "image/png": "[encoded data removed]",
      "text/plain": [
       "<Figure size 1000x500 with 1 Axes>"
      ]
     },
     "metadata": {},
     "output_type": "display_data"
    },
    {
     "data": {
      "image/png": "[encoded data removed]",
      "text/plain": [
       "<Figure size 1000x500 with 1 Axes>"
      ]
     },
     "metadata": {},
     "output_type": "display_data"
    }
   ],
   "source": [
    "# Verificando novamente o histograma para ver se os outliers foram retirados\n",
    "plot_histogram(df_student_info_filtered, numeric_columns)"
   ]
  },
  {
   "cell_type": "markdown",
   "id": "b32348b3",
   "metadata": {},
   "source": [
    "## 4 - Base tratada"
   ]
  },
  {
   "cell_type": "code",
   "execution_count": 638,
   "id": "232394db",
   "metadata": {},
   "outputs": [
    {
     "data": {
      "text/html": [
       "<div>\n",
       "<style scoped>\n",
       "    .dataframe tbody tr th:only-of-type {\n",
       "        vertical-align: middle;\n",
       "    }\n",
       "\n",
       "    .dataframe tbody tr th {\n",
       "        vertical-align: top;\n",
       "    }\n",
       "\n",
       "    .dataframe thead th {\n",
       "        text-align: right;\n",
       "    }\n",
       "</style>\n",
       "<table border=\"1\" class=\"dataframe\">\n",
       "  <thead>\n",
       "    <tr style=\"text-align: right;\">\n",
       "      <th></th>\n",
       "      <th>Name</th>\n",
       "      <th>Age</th>\n",
       "      <th>Gender</th>\n",
       "      <th>Admission Test Score</th>\n",
       "      <th>High School Percentage</th>\n",
       "      <th>Admission Status</th>\n",
       "    </tr>\n",
       "  </thead>\n",
       "  <tbody>\n",
       "    <tr>\n",
       "      <th>0</th>\n",
       "      <td>Shehroz</td>\n",
       "      <td>24.0</td>\n",
       "      <td>Female</td>\n",
       "      <td>50.0</td>\n",
       "      <td>68.90</td>\n",
       "      <td>1</td>\n",
       "    </tr>\n",
       "    <tr>\n",
       "      <th>2</th>\n",
       "      <td>Bushra</td>\n",
       "      <td>17.0</td>\n",
       "      <td>Male</td>\n",
       "      <td>89.0</td>\n",
       "      <td>78.09</td>\n",
       "      <td>0</td>\n",
       "    </tr>\n",
       "    <tr>\n",
       "      <th>3</th>\n",
       "      <td>Aliya</td>\n",
       "      <td>17.0</td>\n",
       "      <td>Male</td>\n",
       "      <td>55.0</td>\n",
       "      <td>85.29</td>\n",
       "      <td>1</td>\n",
       "    </tr>\n",
       "    <tr>\n",
       "      <th>5</th>\n",
       "      <td>Murtaza</td>\n",
       "      <td>23.0</td>\n",
       "      <td>Female</td>\n",
       "      <td>78.0</td>\n",
       "      <td>78.09</td>\n",
       "      <td>0</td>\n",
       "    </tr>\n",
       "    <tr>\n",
       "      <th>6</th>\n",
       "      <td>Asad</td>\n",
       "      <td>18.0</td>\n",
       "      <td>Male</td>\n",
       "      <td>78.0</td>\n",
       "      <td>97.31</td>\n",
       "      <td>0</td>\n",
       "    </tr>\n",
       "    <tr>\n",
       "      <th>...</th>\n",
       "      <td>...</td>\n",
       "      <td>...</td>\n",
       "      <td>...</td>\n",
       "      <td>...</td>\n",
       "      <td>...</td>\n",
       "      <td>...</td>\n",
       "    </tr>\n",
       "    <tr>\n",
       "      <th>151</th>\n",
       "      <td>Asad</td>\n",
       "      <td>20.0</td>\n",
       "      <td>Female</td>\n",
       "      <td>95.0</td>\n",
       "      <td>52.40</td>\n",
       "      <td>1</td>\n",
       "    </tr>\n",
       "    <tr>\n",
       "      <th>152</th>\n",
       "      <td>Ali</td>\n",
       "      <td>19.0</td>\n",
       "      <td>Female</td>\n",
       "      <td>85.0</td>\n",
       "      <td>78.09</td>\n",
       "      <td>0</td>\n",
       "    </tr>\n",
       "    <tr>\n",
       "      <th>153</th>\n",
       "      <td>Bilal</td>\n",
       "      <td>17.0</td>\n",
       "      <td>Female</td>\n",
       "      <td>81.0</td>\n",
       "      <td>84.40</td>\n",
       "      <td>1</td>\n",
       "    </tr>\n",
       "    <tr>\n",
       "      <th>154</th>\n",
       "      <td>Fatima</td>\n",
       "      <td>21.0</td>\n",
       "      <td>Female</td>\n",
       "      <td>98.0</td>\n",
       "      <td>50.86</td>\n",
       "      <td>0</td>\n",
       "    </tr>\n",
       "    <tr>\n",
       "      <th>156</th>\n",
       "      <td>Maaz</td>\n",
       "      <td>17.0</td>\n",
       "      <td>Male</td>\n",
       "      <td>88.0</td>\n",
       "      <td>86.85</td>\n",
       "      <td>0</td>\n",
       "    </tr>\n",
       "  </tbody>\n",
       "</table>\n",
       "<p>124 rows × 6 columns</p>\n",
       "</div>"
      ],
      "text/plain": [
       "        Name   Age  Gender  Admission Test Score  High School Percentage  \\\n",
       "0    Shehroz  24.0  Female                  50.0                   68.90   \n",
       "2     Bushra  17.0    Male                  89.0                   78.09   \n",
       "3      Aliya  17.0    Male                  55.0                   85.29   \n",
       "5    Murtaza  23.0  Female                  78.0                   78.09   \n",
       "6       Asad  18.0    Male                  78.0                   97.31   \n",
       "..       ...   ...     ...                   ...                     ...   \n",
       "151     Asad  20.0  Female                  95.0                   52.40   \n",
       "152      Ali  19.0  Female                  85.0                   78.09   \n",
       "153    Bilal  17.0  Female                  81.0                   84.40   \n",
       "154   Fatima  21.0  Female                  98.0                   50.86   \n",
       "156     Maaz  17.0    Male                  88.0                   86.85   \n",
       "\n",
       "     Admission Status  \n",
       "0                   1  \n",
       "2                   0  \n",
       "3                   1  \n",
       "5                   0  \n",
       "6                   0  \n",
       "..                ...  \n",
       "151                 1  \n",
       "152                 0  \n",
       "153                 1  \n",
       "154                 0  \n",
       "156                 0  \n",
       "\n",
       "[124 rows x 6 columns]"
      ]
     },
     "metadata": {},
     "output_type": "display_data"
    }
   ],
   "source": [
    "display(df_student_info_filtered)"
   ]
  }
 ],
 "metadata": {
  "kernelspec": {
   "display_name": "base",
   "language": "python",
   "name": "python3"
  },
  "language_info": {
   "codemirror_mode": {
    "name": "ipython",
    "version": 3
   },
   "file_extension": ".py",
   "mimetype": "text/x-python",
   "name": "python",
   "nbconvert_exporter": "python",
   "pygments_lexer": "ipython3",
   "version": "3.12.7"
  }
 },
 "nbformat": 4,
 "nbformat_minor": 5
}
