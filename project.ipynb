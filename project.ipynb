{
 "cells": [
  {
   "cell_type": "markdown",
   "id": "39b7a706",
   "metadata": {},
   "source": [
    "# Estudo de tratamento de dados usando python"
   ]
  },
  {
   "cell_type": "code",
   "execution_count": 184,
   "id": "2e764148",
   "metadata": {},
   "outputs": [],
   "source": [
    "# Funções\n",
    "def plot_histogram(df, column):\n",
    "    for col in df[column].columns:\n",
    "        plt.figure(figsize=(10, 5))\n",
    "        sns.boxplot(x=df[col])\n",
    "        plt.title(f'Boxplot de {col}')\n",
    "        plt.show()"
   ]
  },
  {
   "cell_type": "markdown",
   "id": "d33c12a3",
   "metadata": {},
   "source": [
    "## 1 - Importando as libs e os dados"
   ]
  },
  {
   "cell_type": "code",
   "execution_count": 185,
   "id": "986dbc94",
   "metadata": {},
   "outputs": [],
   "source": [
    "import pandas as pd\n",
    "import numpy as np\n",
    "import matplotlib.pyplot as plt\n",
    "import seaborn as sns\n",
    "from sklearn.preprocessing import LabelEncoder\n",
    "import sklearn.model_selection as ms\n",
    "import sklearn.linear_model as lm"
   ]
  },
  {
   "cell_type": "code",
   "execution_count": 186,
   "id": "4458a9aa",
   "metadata": {},
   "outputs": [],
   "source": [
    "# Lendo o arquivo csv\n",
    "df_student_info = pd.read_csv(\"archive/student_admission_record_dirty.csv\")"
   ]
  },
  {
   "cell_type": "markdown",
   "id": "3ee646a9",
   "metadata": {},
   "source": [
    "## 2 - Análise exploratória"
   ]
  },
  {
   "cell_type": "code",
   "execution_count": 187,
   "id": "32a1dda6",
   "metadata": {},
   "outputs": [
    {
     "data": {
      "text/html": [
       "<div>\n",
       "<style scoped>\n",
       "    .dataframe tbody tr th:only-of-type {\n",
       "        vertical-align: middle;\n",
       "    }\n",
       "\n",
       "    .dataframe tbody tr th {\n",
       "        vertical-align: top;\n",
       "    }\n",
       "\n",
       "    .dataframe thead th {\n",
       "        text-align: right;\n",
       "    }\n",
       "</style>\n",
       "<table border=\"1\" class=\"dataframe\">\n",
       "  <thead>\n",
       "    <tr style=\"text-align: right;\">\n",
       "      <th></th>\n",
       "      <th>Name</th>\n",
       "      <th>Age</th>\n",
       "      <th>Gender</th>\n",
       "      <th>Admission Test Score</th>\n",
       "      <th>High School Percentage</th>\n",
       "      <th>City</th>\n",
       "      <th>Admission Status</th>\n",
       "    </tr>\n",
       "  </thead>\n",
       "  <tbody>\n",
       "    <tr>\n",
       "      <th>0</th>\n",
       "      <td>Shehroz</td>\n",
       "      <td>24.0</td>\n",
       "      <td>Female</td>\n",
       "      <td>50.0</td>\n",
       "      <td>68.90</td>\n",
       "      <td>Quetta</td>\n",
       "      <td>Rejected</td>\n",
       "    </tr>\n",
       "    <tr>\n",
       "      <th>1</th>\n",
       "      <td>Waqar</td>\n",
       "      <td>21.0</td>\n",
       "      <td>Female</td>\n",
       "      <td>99.0</td>\n",
       "      <td>60.73</td>\n",
       "      <td>Karachi</td>\n",
       "      <td>NaN</td>\n",
       "    </tr>\n",
       "    <tr>\n",
       "      <th>2</th>\n",
       "      <td>Bushra</td>\n",
       "      <td>17.0</td>\n",
       "      <td>Male</td>\n",
       "      <td>89.0</td>\n",
       "      <td>NaN</td>\n",
       "      <td>Islamabad</td>\n",
       "      <td>Accepted</td>\n",
       "    </tr>\n",
       "    <tr>\n",
       "      <th>3</th>\n",
       "      <td>Aliya</td>\n",
       "      <td>17.0</td>\n",
       "      <td>Male</td>\n",
       "      <td>55.0</td>\n",
       "      <td>85.29</td>\n",
       "      <td>Karachi</td>\n",
       "      <td>Rejected</td>\n",
       "    </tr>\n",
       "    <tr>\n",
       "      <th>4</th>\n",
       "      <td>Bilal</td>\n",
       "      <td>20.0</td>\n",
       "      <td>Male</td>\n",
       "      <td>65.0</td>\n",
       "      <td>61.13</td>\n",
       "      <td>Lahore</td>\n",
       "      <td>NaN</td>\n",
       "    </tr>\n",
       "  </tbody>\n",
       "</table>\n",
       "</div>"
      ],
      "text/plain": [
       "      Name   Age  Gender  Admission Test Score  High School Percentage  \\\n",
       "0  Shehroz  24.0  Female                  50.0                   68.90   \n",
       "1    Waqar  21.0  Female                  99.0                   60.73   \n",
       "2   Bushra  17.0    Male                  89.0                     NaN   \n",
       "3    Aliya  17.0    Male                  55.0                   85.29   \n",
       "4    Bilal  20.0    Male                  65.0                   61.13   \n",
       "\n",
       "        City Admission Status  \n",
       "0     Quetta         Rejected  \n",
       "1    Karachi              NaN  \n",
       "2  Islamabad         Accepted  \n",
       "3    Karachi         Rejected  \n",
       "4     Lahore              NaN  "
      ]
     },
     "execution_count": 187,
     "metadata": {},
     "output_type": "execute_result"
    }
   ],
   "source": [
    "# Visualizando os dados\n",
    "df_student_info.head()"
   ]
  },
  {
   "cell_type": "code",
   "execution_count": 188,
   "id": "5339b1f5",
   "metadata": {},
   "outputs": [
    {
     "name": "stdout",
     "output_type": "stream",
     "text": [
      "<class 'pandas.core.frame.DataFrame'>\n",
      "RangeIndex: 157 entries, 0 to 156\n",
      "Data columns (total 7 columns):\n",
      " #   Column                  Non-Null Count  Dtype  \n",
      "---  ------                  --------------  -----  \n",
      " 0   Name                    147 non-null    object \n",
      " 1   Age                     147 non-null    float64\n",
      " 2   Gender                  147 non-null    object \n",
      " 3   Admission Test Score    146 non-null    float64\n",
      " 4   High School Percentage  146 non-null    float64\n",
      " 5   City                    147 non-null    object \n",
      " 6   Admission Status        147 non-null    object \n",
      "dtypes: float64(3), object(4)\n",
      "memory usage: 8.7+ KB\n"
     ]
    }
   ],
   "source": [
    "# Exibindo as informações do df\n",
    "df_student_info.info()"
   ]
  },
  {
   "cell_type": "code",
   "execution_count": 189,
   "id": "f8d93daf",
   "metadata": {},
   "outputs": [
    {
     "data": {
      "text/plain": [
       "Name                      10\n",
       "Age                       10\n",
       "Gender                    10\n",
       "Admission Test Score      11\n",
       "High School Percentage    11\n",
       "City                      10\n",
       "Admission Status          10\n",
       "dtype: int64"
      ]
     },
     "execution_count": 189,
     "metadata": {},
     "output_type": "execute_result"
    }
   ],
   "source": [
    "df_student_info.isnull().sum()"
   ]
  },
  {
   "cell_type": "code",
   "execution_count": 190,
   "id": "019a199f",
   "metadata": {},
   "outputs": [
    {
     "name": "stdout",
     "output_type": "stream",
     "text": [
      "Número de linhas duplicadas: 6\n"
     ]
    }
   ],
   "source": [
    "print(f\"Número de linhas duplicadas: {df_student_info.duplicated().sum()}\")"
   ]
  },
  {
   "cell_type": "markdown",
   "id": "1b3b99e4",
   "metadata": {},
   "source": [
    "## 3 - Tratamento dos dados"
   ]
  },
  {
   "cell_type": "code",
   "execution_count": 191,
   "id": "b6387274",
   "metadata": {},
   "outputs": [],
   "source": [
    "qtd_lines_before = len(df_student_info)"
   ]
  },
  {
   "cell_type": "markdown",
   "id": "3bf4e820",
   "metadata": {},
   "source": [
    "### 3.1 - Tratando duplicatas"
   ]
  },
  {
   "cell_type": "code",
   "execution_count": 192,
   "id": "117dc1d9",
   "metadata": {},
   "outputs": [
    {
     "name": "stdout",
     "output_type": "stream",
     "text": [
      "Total de linhas antes do tratamento: 157\n"
     ]
    }
   ],
   "source": [
    "# Contando o número de linhas antes do tratamento\n",
    "print(f\"Total de linhas antes do tratamento: {qtd_lines_before}\")"
   ]
  },
  {
   "cell_type": "code",
   "execution_count": 193,
   "id": "a81afb6f",
   "metadata": {},
   "outputs": [],
   "source": [
    "df_student_info = df_student_info.drop_duplicates()"
   ]
  },
  {
   "cell_type": "code",
   "execution_count": 194,
   "id": "4ee24c17",
   "metadata": {},
   "outputs": [
    {
     "name": "stdout",
     "output_type": "stream",
     "text": [
      "Total de linhas após o tratamento: 6\n"
     ]
    }
   ],
   "source": [
    "print(f\"Total de linhas após o tratamento: {qtd_lines_before - len(df_student_info)}\")\n",
    "# Foram removidas 6 linhas duplicadas"
   ]
  },
  {
   "cell_type": "markdown",
   "id": "a8a626a3",
   "metadata": {},
   "source": [
    "### 3.2 - Tratando valores nulos"
   ]
  },
  {
   "cell_type": "markdown",
   "id": "060a2809",
   "metadata": {},
   "source": [
    "#### 3.2.1 - Variáveis categóricas"
   ]
  },
  {
   "cell_type": "code",
   "execution_count": 195,
   "id": "fb989928",
   "metadata": {},
   "outputs": [],
   "source": [
    "# Retirando a coluna City e Name do nosso DataFrame\n",
    "df_student_info_filtered = df_student_info.drop(columns=['City', 'Name'], axis=1)\n",
    "\n",
    "# Identifiquei que ela não é necessária para o nosso modelo"
   ]
  },
  {
   "cell_type": "code",
   "execution_count": 196,
   "id": "0d4df10f",
   "metadata": {},
   "outputs": [
    {
     "data": {
      "text/plain": [
       "Admission Status    0\n",
       "Gender              0\n",
       "dtype: int64"
      ]
     },
     "execution_count": 196,
     "metadata": {},
     "output_type": "execute_result"
    }
   ],
   "source": [
    "# Removendo os valores nulos de Admission Status e Gender\n",
    "df_student_info_filtered = df_student_info_filtered.dropna(subset=['Admission Status', 'Gender'])\n",
    "df_student_info_filtered[['Admission Status', 'Gender']].isnull().sum()"
   ]
  },
  {
   "cell_type": "code",
   "execution_count": 197,
   "id": "7c199857",
   "metadata": {},
   "outputs": [
    {
     "data": {
      "text/plain": [
       "0    1\n",
       "2    0\n",
       "3    1\n",
       "5    0\n",
       "6    0\n",
       "Name: Admission Status, dtype: int32"
      ]
     },
     "execution_count": 197,
     "metadata": {},
     "output_type": "execute_result"
    }
   ],
   "source": [
    "# Usando o LabelEncoder para transformar a coluna Admission Status em numéricas\n",
    "le = LabelEncoder()\n",
    "df_student_info_filtered['Admission Status'] = le.fit_transform(df_student_info_filtered['Admission Status'])\n",
    "df_student_info_filtered['Admission Status'].head(5)"
   ]
  },
  {
   "cell_type": "code",
   "execution_count": 198,
   "id": "30013c25",
   "metadata": {},
   "outputs": [
    {
     "name": "stdout",
     "output_type": "stream",
     "text": [
      "total de linhas após o tratamento: 132\n",
      "Total de linhas removidas: 25\n"
     ]
    }
   ],
   "source": [
    "# Total de linhas após o tratamento\n",
    "print(f\"total de linhas após o tratamento: {len(df_student_info_filtered)}\")\n",
    "print(f\"Total de linhas removidas: {qtd_lines_before - len(df_student_info_filtered)}\")"
   ]
  },
  {
   "cell_type": "markdown",
   "id": "ecabf1ea",
   "metadata": {},
   "source": [
    "#### 3.2.2 - Variáveis numéricas"
   ]
  },
  {
   "cell_type": "code",
   "execution_count": 199,
   "id": "c77e08bd",
   "metadata": {},
   "outputs": [
    {
     "name": "stdout",
     "output_type": "stream",
     "text": [
      "Age\n",
      "Admission Test Score\n",
      "High School Percentage\n"
     ]
    }
   ],
   "source": [
    "# Definindo apenas colunas numéricas \n",
    "numeric_columns = []\n",
    "for c in df_student_info.columns[0:7].tolist():\n",
    "    if df_student_info.dtypes[c] == 'float64' or df_student_info.dtypes[c] == 'int64':\n",
    "        numeric_columns.append(c)\n",
    "        print(c)\n",
    "        \n",
    "df_student_info_numerics = df_student_info[numeric_columns]"
   ]
  },
  {
   "cell_type": "code",
   "execution_count": 200,
   "id": "2fc481e7",
   "metadata": {},
   "outputs": [
    {
     "name": "stdout",
     "output_type": "stream",
     "text": [
      "Média da coluna Age: 19.764227642276424\n",
      "Mediana da coluna Age: 20.0\n",
      "\n",
      "\n",
      "Média da coluna Admission Test Score: 76.95934959349593\n",
      "Mediana da coluna Admission Test Score: 78.0\n",
      "\n",
      "\n",
      "Média da coluna High School Percentage: 76.46123966942147\n",
      "Mediana da coluna High School Percentage: 78.09\n",
      "\n",
      "\n"
     ]
    }
   ],
   "source": [
    "# Calculando medidas estatísticas: Média, Mediana\n",
    "# Criando arrays com as colunas numéricas\n",
    "mean = {}\n",
    "median = {}\n",
    "for col in df_student_info_filtered[numeric_columns].columns:\n",
    "    mean[col] = df_student_info_filtered[col].mean()\n",
    "    median[col] = df_student_info_filtered[col].median()\n",
    "    print(f\"Média da coluna {col}: {mean[col]}\")\n",
    "    print(f\"Mediana da coluna {col}: {median[col]}\")\n",
    "    print(\"\\n\")\n"
   ]
  },
  {
   "cell_type": "code",
   "execution_count": 201,
   "id": "e8cb2d7a",
   "metadata": {},
   "outputs": [
    {
     "data": {
      "text/plain": [
       "Age                       0\n",
       "Admission Test Score      0\n",
       "High School Percentage    0\n",
       "dtype: int64"
      ]
     },
     "execution_count": 201,
     "metadata": {},
     "output_type": "execute_result"
    }
   ],
   "source": [
    "# Substituindo os valores nulos pela mediana\n",
    "\n",
    "for col in df_student_info_filtered[numeric_columns].columns:\n",
    "    df_student_info_filtered[col] = df_student_info_filtered[col].fillna(median[col])\n",
    "\n",
    "df_student_info_filtered[numeric_columns].isnull().sum()"
   ]
  },
  {
   "cell_type": "markdown",
   "id": "e07c6146",
   "metadata": {},
   "source": [
    "### 3.3 - Tratando outliers"
   ]
  },
  {
   "cell_type": "markdown",
   "id": "c189bcac",
   "metadata": {},
   "source": [
    "#### 3.3.1 - Plotando boxplot"
   ]
  },
  {
   "cell_type": "code",
   "execution_count": 202,
   "id": "7f4f208c",
   "metadata": {},
   "outputs": [
    {
     "data": {
      "image/png": "[encoded data removed]",
      "text/plain": [
       "<Figure size 1000x500 with 1 Axes>"
      ]
     },
     "metadata": {},
     "output_type": "display_data"
    },
    {
     "data": {
      "image/png": "[encoded data removed]",
      "text/plain": [
       "<Figure size 1000x500 with 1 Axes>"
      ]
     },
     "metadata": {},
     "output_type": "display_data"
    },
    {
     "data": {
      "image/png": "[encoded data removed]",
      "text/plain": [
       "<Figure size 1000x500 with 1 Axes>"
      ]
     },
     "metadata": {},
     "output_type": "display_data"
    }
   ],
   "source": [
    "# Plotando um boxplot para ver a distribuição dos dados e identificar outliers\n",
    "plot_histogram(df_student_info_filtered, numeric_columns)"
   ]
  },
  {
   "cell_type": "markdown",
   "id": "bd7ef47f",
   "metadata": {},
   "source": [
    "#### 3.3.2 - Tratando casos impossíveis"
   ]
  },
  {
   "cell_type": "code",
   "execution_count": 203,
   "id": "435c07b2",
   "metadata": {},
   "outputs": [
    {
     "name": "stdout",
     "output_type": "stream",
     "text": [
      "Linhas antes do tratamento:  132\n"
     ]
    }
   ],
   "source": [
    "print('Linhas antes do tratamento: ', len(df_student_info_filtered))"
   ]
  },
  {
   "cell_type": "code",
   "execution_count": 204,
   "id": "c8f91ae3",
   "metadata": {},
   "outputs": [],
   "source": [
    "df_student_info_filtered = df_student_info_filtered[\n",
    "    (df_student_info_filtered['Age'] > 0) & \n",
    "    (df_student_info_filtered['Admission Test Score'] > 0) &\n",
    "    (df_student_info_filtered['Admission Test Score'] <= 100) & \n",
    "    (df_student_info_filtered['High School Percentage'] <= 100) &\n",
    "    (df_student_info_filtered['High School Percentage'] >= 0) \n",
    "]\n",
    "\n",
    "# Como o criador passou um contexto das variáveis, eu retirei alguns possíveis outliers impossíveis, exemplo: a idade ser menor ou igual a 0 "
   ]
  },
  {
   "cell_type": "code",
   "execution_count": 205,
   "id": "fb03d2e1",
   "metadata": {},
   "outputs": [
    {
     "name": "stdout",
     "output_type": "stream",
     "text": [
      "Linhas depois do tratamento:  124\n"
     ]
    }
   ],
   "source": [
    "print('Linhas depois do tratamento: ', len(df_student_info_filtered))"
   ]
  },
  {
   "cell_type": "code",
   "execution_count": 206,
   "id": "f78b0ec4",
   "metadata": {},
   "outputs": [
    {
     "data": {
      "image/png": "[encoded data removed]",
      "text/plain": [
       "<Figure size 1000x500 with 1 Axes>"
      ]
     },
     "metadata": {},
     "output_type": "display_data"
    },
    {
     "data": {
      "image/png": "[encoded data removed]",
      "text/plain": [
       "<Figure size 1000x500 with 1 Axes>"
      ]
     },
     "metadata": {},
     "output_type": "display_data"
    },
    {
     "data": {
      "image/png": "[encoded data removed]",
      "text/plain": [
       "<Figure size 1000x500 with 1 Axes>"
      ]
     },
     "metadata": {},
     "output_type": "display_data"
    }
   ],
   "source": [
    "# Verificando novamente o histograma para ver se os outliers foram retirados\n",
    "plot_histogram(df_student_info_filtered, numeric_columns)"
   ]
  },
  {
   "cell_type": "markdown",
   "id": "b32348b3",
   "metadata": {},
   "source": [
    "## 4 - Base tratada"
   ]
  },
  {
   "cell_type": "code",
   "execution_count": 207,
   "id": "232394db",
   "metadata": {},
   "outputs": [
    {
     "data": {
      "text/html": [
       "<div>\n",
       "<style scoped>\n",
       "    .dataframe tbody tr th:only-of-type {\n",
       "        vertical-align: middle;\n",
       "    }\n",
       "\n",
       "    .dataframe tbody tr th {\n",
       "        vertical-align: top;\n",
       "    }\n",
       "\n",
       "    .dataframe thead th {\n",
       "        text-align: right;\n",
       "    }\n",
       "</style>\n",
       "<table border=\"1\" class=\"dataframe\">\n",
       "  <thead>\n",
       "    <tr style=\"text-align: right;\">\n",
       "      <th></th>\n",
       "      <th>Age</th>\n",
       "      <th>Gender</th>\n",
       "      <th>Admission Test Score</th>\n",
       "      <th>High School Percentage</th>\n",
       "      <th>Admission Status</th>\n",
       "    </tr>\n",
       "  </thead>\n",
       "  <tbody>\n",
       "    <tr>\n",
       "      <th>0</th>\n",
       "      <td>24.0</td>\n",
       "      <td>Female</td>\n",
       "      <td>50.0</td>\n",
       "      <td>68.90</td>\n",
       "      <td>1</td>\n",
       "    </tr>\n",
       "    <tr>\n",
       "      <th>2</th>\n",
       "      <td>17.0</td>\n",
       "      <td>Male</td>\n",
       "      <td>89.0</td>\n",
       "      <td>78.09</td>\n",
       "      <td>0</td>\n",
       "    </tr>\n",
       "    <tr>\n",
       "      <th>3</th>\n",
       "      <td>17.0</td>\n",
       "      <td>Male</td>\n",
       "      <td>55.0</td>\n",
       "      <td>85.29</td>\n",
       "      <td>1</td>\n",
       "    </tr>\n",
       "    <tr>\n",
       "      <th>5</th>\n",
       "      <td>23.0</td>\n",
       "      <td>Female</td>\n",
       "      <td>78.0</td>\n",
       "      <td>78.09</td>\n",
       "      <td>0</td>\n",
       "    </tr>\n",
       "    <tr>\n",
       "      <th>6</th>\n",
       "      <td>18.0</td>\n",
       "      <td>Male</td>\n",
       "      <td>78.0</td>\n",
       "      <td>97.31</td>\n",
       "      <td>0</td>\n",
       "    </tr>\n",
       "    <tr>\n",
       "      <th>...</th>\n",
       "      <td>...</td>\n",
       "      <td>...</td>\n",
       "      <td>...</td>\n",
       "      <td>...</td>\n",
       "      <td>...</td>\n",
       "    </tr>\n",
       "    <tr>\n",
       "      <th>151</th>\n",
       "      <td>20.0</td>\n",
       "      <td>Female</td>\n",
       "      <td>95.0</td>\n",
       "      <td>52.40</td>\n",
       "      <td>1</td>\n",
       "    </tr>\n",
       "    <tr>\n",
       "      <th>152</th>\n",
       "      <td>19.0</td>\n",
       "      <td>Female</td>\n",
       "      <td>85.0</td>\n",
       "      <td>78.09</td>\n",
       "      <td>0</td>\n",
       "    </tr>\n",
       "    <tr>\n",
       "      <th>153</th>\n",
       "      <td>17.0</td>\n",
       "      <td>Female</td>\n",
       "      <td>81.0</td>\n",
       "      <td>84.40</td>\n",
       "      <td>1</td>\n",
       "    </tr>\n",
       "    <tr>\n",
       "      <th>154</th>\n",
       "      <td>21.0</td>\n",
       "      <td>Female</td>\n",
       "      <td>98.0</td>\n",
       "      <td>50.86</td>\n",
       "      <td>0</td>\n",
       "    </tr>\n",
       "    <tr>\n",
       "      <th>156</th>\n",
       "      <td>17.0</td>\n",
       "      <td>Male</td>\n",
       "      <td>88.0</td>\n",
       "      <td>86.85</td>\n",
       "      <td>0</td>\n",
       "    </tr>\n",
       "  </tbody>\n",
       "</table>\n",
       "<p>124 rows × 5 columns</p>\n",
       "</div>"
      ],
      "text/plain": [
       "      Age  Gender  Admission Test Score  High School Percentage  \\\n",
       "0    24.0  Female                  50.0                   68.90   \n",
       "2    17.0    Male                  89.0                   78.09   \n",
       "3    17.0    Male                  55.0                   85.29   \n",
       "5    23.0  Female                  78.0                   78.09   \n",
       "6    18.0    Male                  78.0                   97.31   \n",
       "..    ...     ...                   ...                     ...   \n",
       "151  20.0  Female                  95.0                   52.40   \n",
       "152  19.0  Female                  85.0                   78.09   \n",
       "153  17.0  Female                  81.0                   84.40   \n",
       "154  21.0  Female                  98.0                   50.86   \n",
       "156  17.0    Male                  88.0                   86.85   \n",
       "\n",
       "     Admission Status  \n",
       "0                   1  \n",
       "2                   0  \n",
       "3                   1  \n",
       "5                   0  \n",
       "6                   0  \n",
       "..                ...  \n",
       "151                 1  \n",
       "152                 0  \n",
       "153                 1  \n",
       "154                 0  \n",
       "156                 0  \n",
       "\n",
       "[124 rows x 5 columns]"
      ]
     },
     "metadata": {},
     "output_type": "display_data"
    }
   ],
   "source": [
    "display(df_student_info_filtered)"
   ]
  },
  {
   "cell_type": "code",
   "execution_count": 208,
   "id": "92830d86",
   "metadata": {},
   "outputs": [
    {
     "data": {
      "image/png": "[encoded data removed]",
      "text/plain": [
       "<Figure size 1000x500 with 1 Axes>"
      ]
     },
     "metadata": {},
     "output_type": "display_data"
    }
   ],
   "source": [
    "plt.figure(figsize=(10, 5))\n",
    "sns.scatterplot(data=df_student_info_filtered, x='Admission Test Score', y='High School Percentage', hue='Admission Status')\n",
    "plt.title('Relação entre Admission Test Score e High School Percentage')\n",
    "plt.xlabel('Admission Test Score')\n",
    "plt.ylabel('High School Percentage')\n",
    "plt.show()"
   ]
  },
  {
   "cell_type": "markdown",
   "id": "1cbecd9d",
   "metadata": {},
   "source": [
    "## 5 - Modelo de machine learning"
   ]
  },
  {
   "cell_type": "code",
   "execution_count": 209,
   "id": "9e2eb6b9",
   "metadata": {},
   "outputs": [],
   "source": [
    "# Criando um df com as var dependentes e independentes\n",
    "\n",
    "X = df_student_info_filtered.drop(columns=['Admission Status'])\n",
    "y = df_student_info_filtered['Admission Status'].values"
   ]
  },
  {
   "cell_type": "code",
   "execution_count": 210,
   "id": "daf2175f",
   "metadata": {},
   "outputs": [],
   "source": [
    "# dummyzando a variável categórica Gender\n",
    "\n",
    "X_dummy = pd.get_dummies(X)"
   ]
  },
  {
   "cell_type": "code",
   "execution_count": 211,
   "id": "014ad63e",
   "metadata": {},
   "outputs": [],
   "source": [
    "# # Separando os dados em treino e teste\n",
    "\n",
    "X_train, X_test, y_train, y_test = ms.train_test_split(x_dummy, y, test_size=0.2, random_state=42)"
   ]
  },
  {
   "cell_type": "code",
   "execution_count": 212,
   "id": "e95b9ef7",
   "metadata": {},
   "outputs": [
    {
     "data": {
      "text/html": [
       "<style>#sk-container-id-2 {\n",
       "  /* Definition of color scheme common for light and dark mode */\n",
       "  --sklearn-color-text: black;\n",
       "  --sklearn-color-line: gray;\n",
       "  /* Definition of color scheme for unfitted estimators */\n",
       "  --sklearn-color-unfitted-level-0: #fff5e6;\n",
       "  --sklearn-color-unfitted-level-1: #f6e4d2;\n",
       "  --sklearn-color-unfitted-level-2: #ffe0b3;\n",
       "  --sklearn-color-unfitted-level-3: chocolate;\n",
       "  /* Definition of color scheme for fitted estimators */\n",
       "  --sklearn-color-fitted-level-0: #f0f8ff;\n",
       "  --sklearn-color-fitted-level-1: #d4ebff;\n",
       "  --sklearn-color-fitted-level-2: #b3dbfd;\n",
       "  --sklearn-color-fitted-level-3: cornflowerblue;\n",
       "\n",
       "  /* Specific color for light theme */\n",
       "  --sklearn-color-text-on-default-background: var(--sg-text-color, var(--theme-code-foreground, var(--jp-content-font-color1, black)));\n",
       "  --sklearn-color-background: var(--sg-background-color, var(--theme-background, var(--jp-layout-color0, white)));\n",
       "  --sklearn-color-border-box: var(--sg-text-color, var(--theme-code-foreground, var(--jp-content-font-color1, black)));\n",
       "  --sklearn-color-icon: #696969;\n",
       "\n",
       "  @media (prefers-color-scheme: dark) {\n",
       "    /* Redefinition of color scheme for dark theme */\n",
       "    --sklearn-color-text-on-default-background: var(--sg-text-color, var(--theme-code-foreground, var(--jp-content-font-color1, white)));\n",
       "    --sklearn-color-background: var(--sg-background-color, var(--theme-background, var(--jp-layout-color0, #111)));\n",
       "    --sklearn-color-border-box: var(--sg-text-color, var(--theme-code-foreground, var(--jp-content-font-color1, white)));\n",
       "    --sklearn-color-icon: #878787;\n",
       "  }\n",
       "}\n",
       "\n",
       "#sk-container-id-2 {\n",
       "  color: var(--sklearn-color-text);\n",
       "}\n",
       "\n",
       "#sk-container-id-2 pre {\n",
       "  padding: 0;\n",
       "}\n",
       "\n",
       "#sk-container-id-2 input.sk-hidden--visually {\n",
       "  border: 0;\n",
       "  clip: rect(1px 1px 1px 1px);\n",
       "  clip: rect(1px, 1px, 1px, 1px);\n",
       "  height: 1px;\n",
       "  margin: -1px;\n",
       "  overflow: hidden;\n",
       "  padding: 0;\n",
       "  position: absolute;\n",
       "  width: 1px;\n",
       "}\n",
       "\n",
       "#sk-container-id-2 div.sk-dashed-wrapped {\n",
       "  border: 1px dashed var(--sklearn-color-line);\n",
       "  margin: 0 0.4em 0.5em 0.4em;\n",
       "  box-sizing: border-box;\n",
       "  padding-bottom: 0.4em;\n",
       "  background-color: var(--sklearn-color-background);\n",
       "}\n",
       "\n",
       "#sk-container-id-2 div.sk-container {\n",
       "  /* jupyter's `normalize.less` sets `[hidden] { display: none; }`\n",
       "     but bootstrap.min.css set `[hidden] { display: none !important; }`\n",
       "     so we also need the `!important` here to be able to override the\n",
       "     default hidden behavior on the sphinx rendered scikit-learn.org.\n",
       "     See: https://github.com/scikit-learn/scikit-learn/issues/21755 */\n",
       "  display: inline-block !important;\n",
       "  position: relative;\n",
       "}\n",
       "\n",
       "#sk-container-id-2 div.sk-text-repr-fallback {\n",
       "  display: none;\n",
       "}\n",
       "\n",
       "div.sk-parallel-item,\n",
       "div.sk-serial,\n",
       "div.sk-item {\n",
       "  /* draw centered vertical line to link estimators */\n",
       "  background-image: linear-gradient(var(--sklearn-color-text-on-default-background), var(--sklearn-color-text-on-default-background));\n",
       "  background-size: 2px 100%;\n",
       "  background-repeat: no-repeat;\n",
       "  background-position: center center;\n",
       "}\n",
       "\n",
       "/* Parallel-specific style estimator block */\n",
       "\n",
       "#sk-container-id-2 div.sk-parallel-item::after {\n",
       "  content: \"\";\n",
       "  width: 100%;\n",
       "  border-bottom: 2px solid var(--sklearn-color-text-on-default-background);\n",
       "  flex-grow: 1;\n",
       "}\n",
       "\n",
       "#sk-container-id-2 div.sk-parallel {\n",
       "  display: flex;\n",
       "  align-items: stretch;\n",
       "  justify-content: center;\n",
       "  background-color: var(--sklearn-color-background);\n",
       "  position: relative;\n",
       "}\n",
       "\n",
       "#sk-container-id-2 div.sk-parallel-item {\n",
       "  display: flex;\n",
       "  flex-direction: column;\n",
       "}\n",
       "\n",
       "#sk-container-id-2 div.sk-parallel-item:first-child::after {\n",
       "  align-self: flex-end;\n",
       "  width: 50%;\n",
       "}\n",
       "\n",
       "#sk-container-id-2 div.sk-parallel-item:last-child::after {\n",
       "  align-self: flex-start;\n",
       "  width: 50%;\n",
       "}\n",
       "\n",
       "#sk-container-id-2 div.sk-parallel-item:only-child::after {\n",
       "  width: 0;\n",
       "}\n",
       "\n",
       "/* Serial-specific style estimator block */\n",
       "\n",
       "#sk-container-id-2 div.sk-serial {\n",
       "  display: flex;\n",
       "  flex-direction: column;\n",
       "  align-items: center;\n",
       "  background-color: var(--sklearn-color-background);\n",
       "  padding-right: 1em;\n",
       "  padding-left: 1em;\n",
       "}\n",
       "\n",
       "\n",
       "/* Toggleable style: style used for estimator/Pipeline/ColumnTransformer box that is\n",
       "clickable and can be expanded/collapsed.\n",
       "- Pipeline and ColumnTransformer use this feature and define the default style\n",
       "- Estimators will overwrite some part of the style using the `sk-estimator` class\n",
       "*/\n",
       "\n",
       "/* Pipeline and ColumnTransformer style (default) */\n",
       "\n",
       "#sk-container-id-2 div.sk-toggleable {\n",
       "  /* Default theme specific background. It is overwritten whether we have a\n",
       "  specific estimator or a Pipeline/ColumnTransformer */\n",
       "  background-color: var(--sklearn-color-background);\n",
       "}\n",
       "\n",
       "/* Toggleable label */\n",
       "#sk-container-id-2 label.sk-toggleable__label {\n",
       "  cursor: pointer;\n",
       "  display: block;\n",
       "  width: 100%;\n",
       "  margin-bottom: 0;\n",
       "  padding: 0.5em;\n",
       "  box-sizing: border-box;\n",
       "  text-align: center;\n",
       "}\n",
       "\n",
       "#sk-container-id-2 label.sk-toggleable__label-arrow:before {\n",
       "  /* Arrow on the left of the label */\n",
       "  content: \"▸\";\n",
       "  float: left;\n",
       "  margin-right: 0.25em;\n",
       "  color: var(--sklearn-color-icon);\n",
       "}\n",
       "\n",
       "#sk-container-id-2 label.sk-toggleable__label-arrow:hover:before {\n",
       "  color: var(--sklearn-color-text);\n",
       "}\n",
       "\n",
       "/* Toggleable content - dropdown */\n",
       "\n",
       "#sk-container-id-2 div.sk-toggleable__content {\n",
       "  max-height: 0;\n",
       "  max-width: 0;\n",
       "  overflow: hidden;\n",
       "  text-align: left;\n",
       "  /* unfitted */\n",
       "  background-color: var(--sklearn-color-unfitted-level-0);\n",
       "}\n",
       "\n",
       "#sk-container-id-2 div.sk-toggleable__content.fitted {\n",
       "  /* fitted */\n",
       "  background-color: var(--sklearn-color-fitted-level-0);\n",
       "}\n",
       "\n",
       "#sk-container-id-2 div.sk-toggleable__content pre {\n",
       "  margin: 0.2em;\n",
       "  border-radius: 0.25em;\n",
       "  color: var(--sklearn-color-text);\n",
       "  /* unfitted */\n",
       "  background-color: var(--sklearn-color-unfitted-level-0);\n",
       "}\n",
       "\n",
       "#sk-container-id-2 div.sk-toggleable__content.fitted pre {\n",
       "  /* unfitted */\n",
       "  background-color: var(--sklearn-color-fitted-level-0);\n",
       "}\n",
       "\n",
       "#sk-container-id-2 input.sk-toggleable__control:checked~div.sk-toggleable__content {\n",
       "  /* Expand drop-down */\n",
       "  max-height: 200px;\n",
       "  max-width: 100%;\n",
       "  overflow: auto;\n",
       "}\n",
       "\n",
       "#sk-container-id-2 input.sk-toggleable__control:checked~label.sk-toggleable__label-arrow:before {\n",
       "  content: \"▾\";\n",
       "}\n",
       "\n",
       "/* Pipeline/ColumnTransformer-specific style */\n",
       "\n",
       "#sk-container-id-2 div.sk-label input.sk-toggleable__control:checked~label.sk-toggleable__label {\n",
       "  color: var(--sklearn-color-text);\n",
       "  background-color: var(--sklearn-color-unfitted-level-2);\n",
       "}\n",
       "\n",
       "#sk-container-id-2 div.sk-label.fitted input.sk-toggleable__control:checked~label.sk-toggleable__label {\n",
       "  background-color: var(--sklearn-color-fitted-level-2);\n",
       "}\n",
       "\n",
       "/* Estimator-specific style */\n",
       "\n",
       "/* Colorize estimator box */\n",
       "#sk-container-id-2 div.sk-estimator input.sk-toggleable__control:checked~label.sk-toggleable__label {\n",
       "  /* unfitted */\n",
       "  background-color: var(--sklearn-color-unfitted-level-2);\n",
       "}\n",
       "\n",
       "#sk-container-id-2 div.sk-estimator.fitted input.sk-toggleable__control:checked~label.sk-toggleable__label {\n",
       "  /* fitted */\n",
       "  background-color: var(--sklearn-color-fitted-level-2);\n",
       "}\n",
       "\n",
       "#sk-container-id-2 div.sk-label label.sk-toggleable__label,\n",
       "#sk-container-id-2 div.sk-label label {\n",
       "  /* The background is the default theme color */\n",
       "  color: var(--sklearn-color-text-on-default-background);\n",
       "}\n",
       "\n",
       "/* On hover, darken the color of the background */\n",
       "#sk-container-id-2 div.sk-label:hover label.sk-toggleable__label {\n",
       "  color: var(--sklearn-color-text);\n",
       "  background-color: var(--sklearn-color-unfitted-level-2);\n",
       "}\n",
       "\n",
       "/* Label box, darken color on hover, fitted */\n",
       "#sk-container-id-2 div.sk-label.fitted:hover label.sk-toggleable__label.fitted {\n",
       "  color: var(--sklearn-color-text);\n",
       "  background-color: var(--sklearn-color-fitted-level-2);\n",
       "}\n",
       "\n",
       "/* Estimator label */\n",
       "\n",
       "#sk-container-id-2 div.sk-label label {\n",
       "  font-family: monospace;\n",
       "  font-weight: bold;\n",
       "  display: inline-block;\n",
       "  line-height: 1.2em;\n",
       "}\n",
       "\n",
       "#sk-container-id-2 div.sk-label-container {\n",
       "  text-align: center;\n",
       "}\n",
       "\n",
       "/* Estimator-specific */\n",
       "#sk-container-id-2 div.sk-estimator {\n",
       "  font-family: monospace;\n",
       "  border: 1px dotted var(--sklearn-color-border-box);\n",
       "  border-radius: 0.25em;\n",
       "  box-sizing: border-box;\n",
       "  margin-bottom: 0.5em;\n",
       "  /* unfitted */\n",
       "  background-color: var(--sklearn-color-unfitted-level-0);\n",
       "}\n",
       "\n",
       "#sk-container-id-2 div.sk-estimator.fitted {\n",
       "  /* fitted */\n",
       "  background-color: var(--sklearn-color-fitted-level-0);\n",
       "}\n",
       "\n",
       "/* on hover */\n",
       "#sk-container-id-2 div.sk-estimator:hover {\n",
       "  /* unfitted */\n",
       "  background-color: var(--sklearn-color-unfitted-level-2);\n",
       "}\n",
       "\n",
       "#sk-container-id-2 div.sk-estimator.fitted:hover {\n",
       "  /* fitted */\n",
       "  background-color: var(--sklearn-color-fitted-level-2);\n",
       "}\n",
       "\n",
       "/* Specification for estimator info (e.g. \"i\" and \"?\") */\n",
       "\n",
       "/* Common style for \"i\" and \"?\" */\n",
       "\n",
       ".sk-estimator-doc-link,\n",
       "a:link.sk-estimator-doc-link,\n",
       "a:visited.sk-estimator-doc-link {\n",
       "  float: right;\n",
       "  font-size: smaller;\n",
       "  line-height: 1em;\n",
       "  font-family: monospace;\n",
       "  background-color: var(--sklearn-color-background);\n",
       "  border-radius: 1em;\n",
       "  height: 1em;\n",
       "  width: 1em;\n",
       "  text-decoration: none !important;\n",
       "  margin-left: 1ex;\n",
       "  /* unfitted */\n",
       "  border: var(--sklearn-color-unfitted-level-1) 1pt solid;\n",
       "  color: var(--sklearn-color-unfitted-level-1);\n",
       "}\n",
       "\n",
       ".sk-estimator-doc-link.fitted,\n",
       "a:link.sk-estimator-doc-link.fitted,\n",
       "a:visited.sk-estimator-doc-link.fitted {\n",
       "  /* fitted */\n",
       "  border: var(--sklearn-color-fitted-level-1) 1pt solid;\n",
       "  color: var(--sklearn-color-fitted-level-1);\n",
       "}\n",
       "\n",
       "/* On hover */\n",
       "div.sk-estimator:hover .sk-estimator-doc-link:hover,\n",
       ".sk-estimator-doc-link:hover,\n",
       "div.sk-label-container:hover .sk-estimator-doc-link:hover,\n",
       ".sk-estimator-doc-link:hover {\n",
       "  /* unfitted */\n",
       "  background-color: var(--sklearn-color-unfitted-level-3);\n",
       "  color: var(--sklearn-color-background);\n",
       "  text-decoration: none;\n",
       "}\n",
       "\n",
       "div.sk-estimator.fitted:hover .sk-estimator-doc-link.fitted:hover,\n",
       ".sk-estimator-doc-link.fitted:hover,\n",
       "div.sk-label-container:hover .sk-estimator-doc-link.fitted:hover,\n",
       ".sk-estimator-doc-link.fitted:hover {\n",
       "  /* fitted */\n",
       "  background-color: var(--sklearn-color-fitted-level-3);\n",
       "  color: var(--sklearn-color-background);\n",
       "  text-decoration: none;\n",
       "}\n",
       "\n",
       "/* Span, style for the box shown on hovering the info icon */\n",
       ".sk-estimator-doc-link span {\n",
       "  display: none;\n",
       "  z-index: 9999;\n",
       "  position: relative;\n",
       "  font-weight: normal;\n",
       "  right: .2ex;\n",
       "  padding: .5ex;\n",
       "  margin: .5ex;\n",
       "  width: min-content;\n",
       "  min-width: 20ex;\n",
       "  max-width: 50ex;\n",
       "  color: var(--sklearn-color-text);\n",
       "  box-shadow: 2pt 2pt 4pt #999;\n",
       "  /* unfitted */\n",
       "  background: var(--sklearn-color-unfitted-level-0);\n",
       "  border: .5pt solid var(--sklearn-color-unfitted-level-3);\n",
       "}\n",
       "\n",
       ".sk-estimator-doc-link.fitted span {\n",
       "  /* fitted */\n",
       "  background: var(--sklearn-color-fitted-level-0);\n",
       "  border: var(--sklearn-color-fitted-level-3);\n",
       "}\n",
       "\n",
       ".sk-estimator-doc-link:hover span {\n",
       "  display: block;\n",
       "}\n",
       "\n",
       "/* \"?\"-specific style due to the `<a>` HTML tag */\n",
       "\n",
       "#sk-container-id-2 a.estimator_doc_link {\n",
       "  float: right;\n",
       "  font-size: 1rem;\n",
       "  line-height: 1em;\n",
       "  font-family: monospace;\n",
       "  background-color: var(--sklearn-color-background);\n",
       "  border-radius: 1rem;\n",
       "  height: 1rem;\n",
       "  width: 1rem;\n",
       "  text-decoration: none;\n",
       "  /* unfitted */\n",
       "  color: var(--sklearn-color-unfitted-level-1);\n",
       "  border: var(--sklearn-color-unfitted-level-1) 1pt solid;\n",
       "}\n",
       "\n",
       "#sk-container-id-2 a.estimator_doc_link.fitted {\n",
       "  /* fitted */\n",
       "  border: var(--sklearn-color-fitted-level-1) 1pt solid;\n",
       "  color: var(--sklearn-color-fitted-level-1);\n",
       "}\n",
       "\n",
       "/* On hover */\n",
       "#sk-container-id-2 a.estimator_doc_link:hover {\n",
       "  /* unfitted */\n",
       "  background-color: var(--sklearn-color-unfitted-level-3);\n",
       "  color: var(--sklearn-color-background);\n",
       "  text-decoration: none;\n",
       "}\n",
       "\n",
       "#sk-container-id-2 a.estimator_doc_link.fitted:hover {\n",
       "  /* fitted */\n",
       "  background-color: var(--sklearn-color-fitted-level-3);\n",
       "}\n",
       "</style><div id=\"sk-container-id-2\" class=\"sk-top-container\"><div class=\"sk-text-repr-fallback\"><pre>LogisticRegression()</pre><b>In a Jupyter environment, please rerun this cell to show the HTML representation or trust the notebook. <br />On GitHub, the HTML representation is unable to render, please try loading this page with nbviewer.org.</b></div><div class=\"sk-container\" hidden><div class=\"sk-item\"><div class=\"sk-estimator fitted sk-toggleable\"><input class=\"sk-toggleable__control sk-hidden--visually\" id=\"sk-estimator-id-2\" type=\"checkbox\" checked><label for=\"sk-estimator-id-2\" class=\"sk-toggleable__label fitted sk-toggleable__label-arrow fitted\">&nbsp;&nbsp;LogisticRegression<a class=\"sk-estimator-doc-link fitted\" rel=\"noreferrer\" target=\"_blank\" href=\"https://scikit-learn.org/1.5/modules/generated/sklearn.linear_model.LogisticRegression.html\">?<span>Documentation for LogisticRegression</span></a><span class=\"sk-estimator-doc-link fitted\">i<span>Fitted</span></span></label><div class=\"sk-toggleable__content fitted\"><pre>LogisticRegression()</pre></div> </div></div></div></div>"
      ],
      "text/plain": [
       "LogisticRegression()"
      ]
     },
     "execution_count": 212,
     "metadata": {},
     "output_type": "execute_result"
    }
   ],
   "source": [
    "# Treinando o modelo de regressão linear\n",
    "regressor = lm.LogisticRegression()\n",
    "regressor.fit(X_train, y_train)"
   ]
  },
  {
   "cell_type": "code",
   "execution_count": 213,
   "id": "c2a5d8c8",
   "metadata": {},
   "outputs": [],
   "source": [
    "y_pred = regressor.predict(X_test)"
   ]
  },
  {
   "cell_type": "code",
   "execution_count": 216,
   "id": "c5e62978",
   "metadata": {},
   "outputs": [
    {
     "data": {
      "text/plain": [
       "array([[1, 1],\n",
       "       [1, 0],\n",
       "       [1, 1],\n",
       "       [0, 0],\n",
       "       [0, 0],\n",
       "       [0, 1],\n",
       "       [0, 1],\n",
       "       [0, 0],\n",
       "       [0, 1],\n",
       "       [1, 0],\n",
       "       [0, 1],\n",
       "       [1, 1],\n",
       "       [0, 0],\n",
       "       [0, 0],\n",
       "       [1, 1],\n",
       "       [0, 1],\n",
       "       [1, 1],\n",
       "       [0, 1],\n",
       "       [1, 1],\n",
       "       [0, 1],\n",
       "       [1, 0],\n",
       "       [0, 0],\n",
       "       [0, 1],\n",
       "       [0, 1],\n",
       "       [0, 0]])"
      ]
     },
     "execution_count": 216,
     "metadata": {},
     "output_type": "execute_result"
    }
   ],
   "source": [
    "# Comparando os resultados\n",
    "np.set_printoptions(precision = 2)\n",
    "result = np.concatenate((y_pred.reshape(len(y_pred), 1), y_test.reshape(len(y_test), 1)), 1)\n",
    "result"
   ]
  },
  {
   "cell_type": "code",
   "execution_count": 217,
   "id": "7e1fa3d5",
   "metadata": {},
   "outputs": [
    {
     "name": "stdout",
     "output_type": "stream",
     "text": [
      "Coefficient: [[-0.04  0.    0.   -0.15  0.15]]\n",
      "Intercept: [0.33]\n"
     ]
    }
   ],
   "source": [
    "# Regressor coefficients and intercept\n",
    "print(f'Coefficient: {regressor.coef_}')\n",
    "print(f'Intercept: {regressor.intercept_}')"
   ]
  }
 ],
 "metadata": {
  "kernelspec": {
   "display_name": "base",
   "language": "python",
   "name": "python3"
  },
  "language_info": {
   "codemirror_mode": {
    "name": "ipython",
    "version": 3
   },
   "file_extension": ".py",
   "mimetype": "text/x-python",
   "name": "python",
   "nbconvert_exporter": "python",
   "pygments_lexer": "ipython3",
   "version": "3.12.7"
  }
 },
 "nbformat": 4,
 "nbformat_minor": 5
}
